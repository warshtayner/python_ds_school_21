{
 "cells": [
  {
   "cell_type": "markdown",
   "metadata": {
    "id": "AeV1bOHvRJP5"
   },
   "source": [
    "# day01 - Трудно жить без даты!\n",
    "\n",
    "---"
   ]
  },
  {
   "cell_type": "markdown",
   "metadata": {
    "id": "ZhuzkKMiRJP8"
   },
   "source": [
    "Импортируем библиотеки с которыми мы уже встречались, и которые нам понадобятся в дальнейшем:"
   ]
  },
  {
   "cell_type": "code",
   "execution_count": 3,
   "metadata": {
    "executionInfo": {
     "elapsed": 701,
     "status": "ok",
     "timestamp": 1647867865040,
     "user": {
      "displayName": "Иван Романов",
      "photoUrl": "https://lh3.googleusercontent.com/a/default-user=s64",
      "userId": "05119643280596747163"
     },
     "user_tz": -180
    },
    "id": "qIW6Sa8cRJP9"
   },
   "outputs": [],
   "source": [
    "import pandas as pd\n",
    "import numpy as np\n",
    "import math\n",
    "from datetime import datetime, timedelta, date, time"
   ]
  },
  {
   "cell_type": "markdown",
   "metadata": {
    "id": "94LQ3UfcRJP9"
   },
   "source": [
    "---\n",
    "\n",
    "## Неоднозначное соответствие единиц измерения времени\n",
    "\n",
    "В этом разделе представлены величины, имеющие несколько значений. Именно эти величины чаще всего используются в повседневной жизни, поэтому необходимо научиться их рассчитывать.\n",
    "\n",
    "- месяц - примерно 30 суток (от 28 до 31):\n",
    "    - январь, март, май, июль, август, октябрь и декабрь - 31 день\n",
    "    - апрель, июнь, сентябрь, ноябрь - 30 дней\n",
    "    - февраль - 28 или 29 дней\n",
    "- в году от 52 до 54 недель в зависимости от способа счисления, которые различаются, например, в США и Канаде от Европы\n",
    "- согласно ISO 8601, первой неделей года считается неделя, содержащая первый четверг года\n",
    "    - если 1 января или 31 декабря выпадает на четверг (или 1 января выпадает на среду в високосный год), то год содержит 53 недели\n",
    "    - в остальных случаях год содержит 52 недели\n",
    "- год содержит 365 или 366 дней\n",
    "- Високосный год определяется согласно следующим правилам:\n",
    "    - если год без остатка делится на 400, то это високосный год\n",
    "    - если год без остатка делится на 4 и при делении на 100 имеет остаток, то это високосный год\n",
    "    - в остальных случаях год не является високосным"
   ]
  },
  {
   "cell_type": "markdown",
   "metadata": {
    "id": "6_Mi38f7RJP-"
   },
   "source": [
    "---\n",
    "\n",
    "Научимся определять високосный год. Напишем для этого функцию, которая будет возвращать True, если год високосный и False, в противном случае:"
   ]
  },
  {
   "cell_type": "code",
   "execution_count": 2,
   "metadata": {
    "id": "eiXeZdgvRJP_"
   },
   "outputs": [],
   "source": [
    "def day366(year):\n",
    "    return (year % 4 == 0) and (year % 100 != 0) or (year % 400 == 0)"
   ]
  },
  {
   "cell_type": "markdown",
   "metadata": {
    "id": "xo4RMlkkRJP_"
   },
   "source": [
    "---\n",
    "\n",
    "Проверим, как работает наша функция на тестовых данных 2000, 2019, 2020, 2021 и 2100 годов:"
   ]
  },
  {
   "cell_type": "code",
   "execution_count": null,
   "metadata": {
    "id": "lMarIU2DRJQA",
    "outputId": "144bf7f0-949d-42f2-b066-225d5c1c695a"
   },
   "outputs": [
    {
     "name": "stdout",
     "output_type": "stream",
     "text": [
      "1900 False\n",
      "2000 True\n",
      "2019 False\n",
      "2020 True\n",
      "2021 False\n",
      "2100 False\n"
     ]
    }
   ],
   "source": [
    "years = [1900, 2000, 2019, 2020, 2021, 2100]\n",
    "for j in years:\n",
    "    print(j, day366(j))"
   ]
  },
  {
   "cell_type": "markdown",
   "metadata": {
    "id": "XnFW9R_VRJQA"
   },
   "source": [
    "---\n",
    "\n",
    "# Задание 1\n",
    "\n",
    "Поздравить знакомого с Днем Рождения коротким сообщением для большинства из нас не составляет труда. С другой стороны проявленный акт внимания создает хорошее настроение и сохраняет социальные связи. Напишите код, который определяет дату рождения в игровой форме.  \n",
    "Пример:\n",
    "Один человек выясняет у другого дату рождения:\n",
    "   - У тебя День рождения в июне?\n",
    "   - Раньше.\n",
    "   - В апреле?\n",
    "   - Да.\n",
    "   - 15-го числа?\n",
    "   - Позже.\n",
    "   - 20-го?\n",
    "   - Да.\n",
    "   - У тебя День Рождения 20 апреля\n",
    "   \n",
    "Механизм взаимодействия:\n",
    "1. Функция get_month() формирует запросы к функции month_of_birth(month)\n",
    "2. Функция month_of_birth(month, m_o_b = number_of_month) проверяет month == m_o_b:\n",
    "  - Если равны, то функция возвращает значение 'да'\n",
    "  - Если month > m_o_b, то значение 'раньше'\n",
    "  - Если month < m_o_b, то значение 'позже'\n",
    "3. Как только получено значение 'да', get_month() прекращает работу и возвращает значение полученного month, переведенного в название месяца\n",
    "4. Функция get_day() формирует запросы к функции day_of_birth(day)\n",
    "5. Функция day_of_birth(day, d_o_b = number_of_day) проверяет day == d_o_b:\n",
    "    - Если равны, то функция возвращает значение 'да'\n",
    "    - Если day > d_o_b, то значение 'раньше'\n",
    "    - Если day < d_o_b, то значение 'позже'\n",
    "6. Как только получено значение 'да', get_day() прекращает работу и возвращает значение полученного day\n",
    "7. Публикация результата в формате \"число месяц\", например, 20 апреля\n",
    "Вам нужно написать код так, чтобы, поменявшись функциями get, вам не пришлось редактировать код для его выполнения. Постарайтесь разработать алгоритм, чтобы общее число запросов не превышало 10.\n",
    "\n",
    "*Рекомендация: Для того, чтобы точно были совместимы возвращаемые функциями ответы, лучше принудительно приводить строку к строчным буквам и без пробелов. Для этого используйте следующий код:*\n",
    "\n",
    "***s = s.lower().replace(' ', '')*** *здесь s - это строка, требующая изменений*\n",
    "\n",
    "Дополнительная информация по работе со строковыми переменными:\n",
    "\n",
    "[Официальная документация](https://docs.python.org/3/library/stdtypes.html#text-sequence-type-str)\n",
    "\n",
    "[Справочник основных функций на русском языке](https://pythonworld.ru/tipy-dannyx-v-python/stroki-funkcii-i-metody-strok.html)\n",
    "\n",
    "---"
   ]
  },
  {
   "cell_type": "code",
   "execution_count": 288,
   "metadata": {
    "id": "_In5W13NRJQC"
   },
   "outputs": [
    {
     "name": "stdout",
     "output_type": "stream",
     "text": [
      "У тебя день рождение в Июне?\n",
      "Раньше\n",
      "\n",
      "в Марте\n",
      "Раньше\n",
      "\n",
      "в Феврале\n",
      "Да\n",
      "\n",
      "15-го числа?\n",
      "Позже\n",
      "\n",
      "22-го?\n",
      "Позже\n",
      "\n",
      "25-го?\n",
      "Позже\n",
      "\n",
      "27-го?\n",
      "Позже\n",
      "\n",
      "28-го?\n",
      "Позже\n",
      "\n",
      "28-го?\n",
      "Позже\n",
      "\n",
      "29-го?\n",
      "Да\n",
      "\n",
      "29 Февраля\n"
     ]
    }
   ],
   "source": [
    "\"\"\"Решение задания 1\"\"\"\n",
    "\n",
    "number_of_month = 2                # глобальная переменная месяца даты рождения, необходимо присвоение значения\n",
    "number_of_day = 29                  # глобальная переменная дня даты рождения, необходимо присвоение значения\n",
    "flag_month = 0\n",
    "lib_months = {\n",
    "    1:'Январь',\n",
    "    2:'Февраль',\n",
    "    3:'Март',\n",
    "    4:'Апрель',\n",
    "    5:'Май',\n",
    "    6:'Июнь',\n",
    "    7:'Июль',\n",
    "    8:'Август',\n",
    "    9:'Сентябрь',\n",
    "    10:'Октябрь',\n",
    "    11:'Ноябрь',\n",
    "    12:'Декабрь',\n",
    "}\n",
    "\n",
    "day_in_month = {\n",
    "    1: 31,\n",
    "    2: 29,\n",
    "    3: 31,\n",
    "    4: 30,\n",
    "    5: 31,\n",
    "    6: 30,\n",
    "    7: 31,\n",
    "    8: 31,\n",
    "    9: 30,\n",
    "    10: 31,\n",
    "    11: 30,\n",
    "    12: 31,\n",
    "}\n",
    "\n",
    "\n",
    "def month_str(month, char):\n",
    "    if month != 5 and month != 3:\n",
    "        return lib_months[month][:len(lib_months[month]) - 1] + char\n",
    "    else:\n",
    "        if char != 'я':\n",
    "            return lib_months[month] + char\n",
    "        else:\n",
    "            return lib_months[month] + 'а'\n",
    "\n",
    "def mid(front_start, front_end):\n",
    "    return (front_start + front_end) // 2\n",
    "\n",
    "def month_of_birth(month, m_o_b = number_of_month):\n",
    "    \"Функция принимает значение month, сравнивает с m_o_b и возвращает результаты сравнения\"\n",
    "    if month > m_o_b:\n",
    "        return 1\n",
    "    elif month < m_o_b:\n",
    "        return -1\n",
    "    else:    \n",
    "        return 0\n",
    "\n",
    "    \n",
    "def day_of_birth(day, d_o_b = number_of_day):\n",
    "    \"Функция принимает значение day, сравнивает его с d_o_b и возвращает результаты сравнения\"\n",
    "    if day > d_o_b:\n",
    "        return 1\n",
    "    elif day < d_o_b:\n",
    "        return -1\n",
    "    else:    \n",
    "        return 0\n",
    "\n",
    "\n",
    "def get_month():\n",
    "    \"\"\"Функция формирует запросы month и анализирует результаты сравнения, переводит номер найденного месяца в \n",
    "    строку его названия и возвращает результат\"\"\"\n",
    "    global flag_month\n",
    "    \n",
    "    if flag_month != 0:\n",
    "        return month_str(flag_month, \"я\")\n",
    "    front_start = 1\n",
    "    front_end = 12\n",
    "    \n",
    "    month = mid(front_start, front_end)\n",
    "    print(f'У тебя день рождение в {month_str(month, \"е\")}?')\n",
    "    \n",
    "    while True:\n",
    "        if month_of_birth(month) > 0:\n",
    "            print('Раньше\\n')\n",
    "            front_end = month\n",
    "            month = mid(front_start, front_end)\n",
    "        elif month_of_birth(month) < 0:\n",
    "            print('Позже\\n')\n",
    "            if front_end - front_start == 1:\n",
    "                front_start = month + 1\n",
    "            else:\n",
    "                front_start = month\n",
    "            month = mid(front_start, front_end)\n",
    "        else:\n",
    "            print('Да\\n')\n",
    "            break\n",
    "        print(f'в {month_str(month, \"е\")}')\n",
    "    flag_month = month\n",
    "    return month_str(month, \"я\")\n",
    "\n",
    "\n",
    "def get_day():\n",
    "    \"Функция формирует запросы day и анализирует результаты сравнения, возвращает результат\"\n",
    "    global flag_month\n",
    "    \n",
    "    if flag_month == 0:\n",
    "        get_month()\n",
    "    \n",
    "    front_start = 1\n",
    "    front_end = day_in_month[flag_month]\n",
    "    \n",
    "    day = mid(front_start, front_end)\n",
    "    \n",
    "    print(f'{day}-го числа?')\n",
    "    while True:\n",
    "        if day_of_birth(day) > 0:\n",
    "            print('Раньше\\n')\n",
    "            front_end = day\n",
    "            day = mid(front_start, front_end)\n",
    "        elif day_of_birth(day) < 0:\n",
    "            print('Позже\\n')\n",
    "            if front_end - front_start == 1:\n",
    "                front_start = day + 1\n",
    "            else:\n",
    "                front_start = day\n",
    "            day = mid(front_start, front_end)\n",
    "        else:\n",
    "            print('Да\\n')\n",
    "            break\n",
    "        print(f'{day}-го?')\n",
    "    return day\n",
    "    \n",
    "def birthday():                    # функция, запускающая процесс определения даты рождения и выводящая результат\n",
    "    print(get_day(), get_month())\n",
    "    \n",
    "birthday()"
   ]
  },
  {
   "cell_type": "markdown",
   "metadata": {
    "id": "KZwiFqJoRJQD"
   },
   "source": [
    "---\n",
    "\n",
    "## Классы и методы модуля DateTime\n",
    "\n",
    "Модуль [DateTime](https://docs.python.org/3/library/datetime.html) предназначен для управления датами и временем в Python. "
   ]
  },
  {
   "cell_type": "code",
   "execution_count": 17,
   "metadata": {
    "id": "V6kDfZgfRJQD"
   },
   "outputs": [],
   "source": [
    "from datetime import datetime, timedelta, date, time"
   ]
  },
  {
   "cell_type": "code",
   "execution_count": 18,
   "metadata": {
    "id": "mZoSRWmQRJQD",
    "outputId": "00105ece-7842-4586-93fd-7a37ebb4522c"
   },
   "outputs": [
    {
     "data": {
      "text/plain": [
       "datetime.datetime(2022, 4, 1, 14, 34, 7, 915857)"
      ]
     },
     "execution_count": 18,
     "metadata": {},
     "output_type": "execute_result"
    }
   ],
   "source": [
    "Time_Now = datetime.now() # возвращает текущие дату и время (год, месяц, число, час, минута, секунда, микросекунда)\n",
    "Time_Now "
   ]
  },
  {
   "cell_type": "code",
   "execution_count": 19,
   "metadata": {
    "id": "atWiWSesRJQE",
    "outputId": "730dcdfe-1f1e-4172-8618-ea4ffa659e20"
   },
   "outputs": [
    {
     "data": {
      "text/plain": [
       "datetime.date(2022, 4, 1)"
      ]
     },
     "execution_count": 19,
     "metadata": {},
     "output_type": "execute_result"
    }
   ],
   "source": [
    "datetime.date(Time_Now) # отсекает время и оставляет только дату"
   ]
  },
  {
   "cell_type": "code",
   "execution_count": 20,
   "metadata": {
    "id": "eGiSC4U-RJQE",
    "outputId": "e03d9e1d-5396-49ed-ee68-a8f1f334cf94"
   },
   "outputs": [
    {
     "data": {
      "text/plain": [
       "datetime.time(14, 34, 7, 915857)"
      ]
     },
     "execution_count": 20,
     "metadata": {},
     "output_type": "execute_result"
    }
   ],
   "source": [
    "datetime.time(Time_Now) # отсекает дату, оставляя только время"
   ]
  },
  {
   "cell_type": "code",
   "execution_count": 21,
   "metadata": {
    "id": "uUF05YO8RJQE",
    "outputId": "0de2c559-0f79-4263-c2e3-1d7152d6df9d"
   },
   "outputs": [
    {
     "name": "stdout",
     "output_type": "stream",
     "text": [
      "2022-04-01T14:34:07.915857\n",
      "2022-04-01 14:34:07.915857\n",
      "2022-04-01 14:34:07\n"
     ]
    }
   ],
   "source": [
    "print(datetime.isoformat(Time_Now, sep='T'))                       # Дата и время с разделителем 'T'\n",
    "print(datetime.isoformat(Time_Now, sep=' '))                       # Дата и время с разделителем ' '\n",
    "print(datetime.isoformat(Time_Now, timespec = 'seconds', sep=' ')) # С детализацией до секунд"
   ]
  },
  {
   "cell_type": "code",
   "execution_count": 22,
   "metadata": {
    "id": "AGNUwscsRJQF",
    "outputId": "6932607e-eb71-4519-867a-5422d3b08101"
   },
   "outputs": [
    {
     "data": {
      "text/plain": [
       "datetime.IsoCalendarDate(year=2022, week=13, weekday=5)"
      ]
     },
     "execution_count": 22,
     "metadata": {},
     "output_type": "execute_result"
    }
   ],
   "source": [
    "datetime.isocalendar(Time_Now) # Возвращает в соответствии с ISO год, номер недели, номер дня недели"
   ]
  },
  {
   "cell_type": "code",
   "execution_count": 119,
   "metadata": {
    "id": "tR4d66PDRJQF",
    "outputId": "040f015b-ea62-4d5b-a473-61d900cefc0c"
   },
   "outputs": [
    {
     "data": {
      "text/plain": [
       "6"
      ]
     },
     "execution_count": 119,
     "metadata": {},
     "output_type": "execute_result"
    }
   ],
   "source": [
    "datetime.isoweekday(datetime.now()) # Номер дня недели (понедельник - 1)"
   ]
  },
  {
   "cell_type": "code",
   "execution_count": 24,
   "metadata": {
    "id": "QjEvaFwRRJQF",
    "outputId": "9ce05be0-7be1-4d86-addd-55ed589d4e2b"
   },
   "outputs": [
    {
     "data": {
      "text/plain": [
       "datetime.datetime(2021, 1, 1, 0, 0, 1)"
      ]
     },
     "execution_count": 24,
     "metadata": {},
     "output_type": "execute_result"
    }
   ],
   "source": [
    "new_year = datetime.strptime('2021-01-01 00:00:01', '%Y-%m-%d %H:%M:%S') # Распознаем из строки дату и время \n",
    "new_year                                                                 # согласно формату '%Y-%m-%d %H:%M:%S'"
   ]
  },
  {
   "cell_type": "code",
   "execution_count": 25,
   "metadata": {
    "id": "5SMqIM5ORJQG",
    "outputId": "07c4701e-4698-428a-87c4-29911d835265"
   },
   "outputs": [
    {
     "data": {
      "text/plain": [
       "'Friday, 01. January 2021 00:00'"
      ]
     },
     "execution_count": 25,
     "metadata": {},
     "output_type": "execute_result"
    }
   ],
   "source": [
    "new_year.strftime(\"%A, %d. %B %Y %H:%M\") # преобразуем дату и время к строке"
   ]
  },
  {
   "cell_type": "code",
   "execution_count": 26,
   "metadata": {
    "id": "lvIN20stRJQG",
    "outputId": "6f76fa8d-34f7-4db9-ac51-083dc43685e5"
   },
   "outputs": [
    {
     "data": {
      "text/plain": [
       "datetime.timedelta(days=455, seconds=52446, microseconds=915857)"
      ]
     },
     "execution_count": 26,
     "metadata": {},
     "output_type": "execute_result"
    }
   ],
   "source": [
    "delta = Time_Now - new_year # Разница между датами, выраженная в днях, секундах и микросекундах\n",
    "delta"
   ]
  },
  {
   "cell_type": "code",
   "execution_count": 27,
   "metadata": {
    "id": "j6SVHngTRJQH",
    "outputId": "b1a00846-594d-4922-9774-75163d33bbba"
   },
   "outputs": [
    {
     "data": {
      "text/plain": [
       "455"
      ]
     },
     "execution_count": 27,
     "metadata": {},
     "output_type": "execute_result"
    }
   ],
   "source": [
    "delta.days"
   ]
  },
  {
   "cell_type": "code",
   "execution_count": 28,
   "metadata": {
    "id": "Tn_sc_dyRJQH",
    "outputId": "ada2f3e7-841c-4d19-c5dc-b51c8a90a527"
   },
   "outputs": [
    {
     "data": {
      "text/plain": [
       "52446"
      ]
     },
     "execution_count": 28,
     "metadata": {},
     "output_type": "execute_result"
    }
   ],
   "source": [
    "delta.seconds"
   ]
  },
  {
   "cell_type": "markdown",
   "metadata": {
    "id": "68inDQGJRJQH"
   },
   "source": [
    "---\n",
    "\n",
    "# Задание 2\n",
    "\n",
    "Требуется написать код, рассчитывающий количество рабочих часов с использованием методов модуля datetime.\n",
    "Требования к коду:\n",
    "1. Написать функцию *input_date()*, которая запрашивает у пользователя диапазон дат, на котором считается рабочее время. Граничные даты включаются в расчет. Функция возвращает две переменные с датами *start_date, end_date*.\n",
    "2. Написать функцию *date_to_datetime(start_date, end_date)*, которая преобразует даты в формат datetime. Функция возвращает переменные *start_date, end_date*, преобразованные к формату datetime.\n",
    "3. Написать функцию *delta_time(start_date, end_date)*, которая рассчитывает разницу во времени. По результату работы функции, в переменную *delta* функции, которая вызвала delta_time, должно быть записано общее количество оцениваемых дней.\n",
    "4. Написать функцию *day_of_the_week(start_date)*, которая возвращает номер дня недели, соответствующий началу оцениваемого периода, в переменную *start_day_of_the_week*.\n",
    "5. Написать функцию *calculating_hours(start_day_of_the_week, delta)*, которая возвращает количество рабочих часов за указанный период (и, таким образом, является точкой входа в нашу программу).\n",
    "6. Сформировать тестовые данные и протестировать программу.\n",
    "\n",
    "Упрощения:\n",
    "1. Пятидневная рабочая неделя, суббота и воскресенье - выходные;\n",
    "2. Каждый день отрабатывается ровно 8 часов;\n",
    "3. Праздники, отгулы, отпуска и больничные отсутствуют"
   ]
  },
  {
   "cell_type": "code",
   "execution_count": 240,
   "metadata": {
    "id": "wpgC_lciRJQI",
    "scrolled": true
   },
   "outputs": [],
   "source": [
    "\"\"\"Решение задания 2\"\"\"\n",
    "from datetime import datetime, timedelta, date, time\n",
    "\n",
    "def input_date():\n",
    "    while True:\n",
    "        work_time = input('Введите две даты через дефис в формате: день-месяц-год\\n'\n",
    "                          'Пример: 01.01.2000-31.12.2020\\n').split('-')\n",
    "        if len(work_time) != 2:\n",
    "            continue\n",
    "        try:\n",
    "            datetime.strptime(work_time[0], '%d.%M.%Y')\n",
    "            datetime.strptime(work_time[1], '%d.%M.%Y')\n",
    "        except ValueError:\n",
    "            continue\n",
    "        break\n",
    "    return work_time[0], work_time[1]\n",
    "\n",
    "\n",
    "def date_to_datetime(start_date, end_date):\n",
    "    start_date = datetime.strptime(start_date, '%d.%m.%Y')\n",
    "    end_date = datetime.strptime(end_date, '%d.%m.%Y')\n",
    "    return start_date, end_date\n",
    "\n",
    "\n",
    "def delta_time(start_date, end_date):\n",
    "    return end_date - start_date + timedelta(days=1)\n",
    "\n",
    "\n",
    "def day_of_the_week(start_date):\n",
    "    start_day_of_the_week = datetime.isoweekday(start_date)\n",
    "    return start_day_of_the_week\n",
    "\n",
    "\n",
    "def calculating_hours(start_day_of_the_week, delta):\n",
    "    if start_day_of_the_week == 7:\n",
    "        cor = -1\n",
    "    elif start_day_of_the_week == 6:\n",
    "        cor = -2\n",
    "    elif start_day_of_the_week < 6 and start_day_of_the_week + delta.days % 7 > 6:\n",
    "        cor = -2\n",
    "    elif start_day_of_the_week < 6 and start_day_of_the_week + delta.days % 7 == 6:\n",
    "        cor = -1\n",
    "    else:\n",
    "        cor = 0\n",
    "    \n",
    "    work_hours = delta.days // 7 * 40 + (delta.days + cor) % 7 * 8\n",
    "    return work_hours"
   ]
  },
  {
   "cell_type": "code",
   "execution_count": 248,
   "metadata": {
    "id": "pP62WwgdRJQI",
    "scrolled": false
   },
   "outputs": [
    {
     "name": "stdout",
     "output_type": "stream",
     "text": [
      "Введите две даты через дефис в формате: день-месяц-год\n",
      "Пример: 01.01.2000-31.12.2020\n",
      "3.04.2022-4.4.2022\n",
      "Рабочих часов - 8\n"
     ]
    }
   ],
   "source": [
    "\"\"\"Тестирование задания 2\"\"\"\n",
    "\n",
    "start_date, end_date = date_to_datetime(*input_date())\n",
    "delta = delta_time(start_date, end_date)\n",
    "start_day_of_the_week = day_of_the_week(start_date)\n",
    "# print(start_date)\n",
    "print(f'Рабочих часов - {calculating_hours(start_day_of_the_week, delta)}')"
   ]
  },
  {
   "cell_type": "markdown",
   "metadata": {
    "id": "YJTGDprVRJQI"
   },
   "source": [
    "---\n",
    "\n",
    "Практически всегда в датасетах дата и время представлены строкой в формате ***год-месяц-день часы:минуты:секунды***, например:"
   ]
  },
  {
   "cell_type": "code",
   "execution_count": null,
   "metadata": {
    "id": "EETqCy5MRJQI",
    "outputId": "333344b1-983c-496d-c9b6-d9d6485dc221"
   },
   "outputs": [
    {
     "data": {
      "text/plain": [
       "'2021-01-02 21:15:06'"
      ]
     },
     "execution_count": 17,
     "metadata": {},
     "output_type": "execute_result"
    }
   ],
   "source": [
    "Date_Time = '2021-01-02 21:15:06'\n",
    "Date_Time"
   ]
  },
  {
   "cell_type": "markdown",
   "metadata": {
    "id": "FddRUDYURJQI"
   },
   "source": [
    "В таком виде информация практически не может быть использована в задачах машинного обучения. Поэтому необходимо научиться преобразовывать эту строку и извлекать из нее полезную информацию. Мы уже рассмотрели библиотеку DateTime и можно пользоваться ею, но можно воспользоваться и просто обработкой строки, зная ее формат. Например, мы можем разбить строку на дату и время:"
   ]
  },
  {
   "cell_type": "code",
   "execution_count": null,
   "metadata": {
    "id": "HNW2tmJ-RJQI",
    "outputId": "2e4ccb79-d735-4116-e069-263e3bdd603c"
   },
   "outputs": [
    {
     "data": {
      "text/plain": [
       "('2021-01-02', '21:15:06')"
      ]
     },
     "execution_count": 18,
     "metadata": {},
     "output_type": "execute_result"
    }
   ],
   "source": [
    "Date, Time = Date_Time.split()\n",
    "Date, Time"
   ]
  },
  {
   "cell_type": "markdown",
   "metadata": {
    "id": "-ByF00uqRJQJ"
   },
   "source": [
    "Теперь мы можем разбить дату на год, месяц и день, а время - на часы, минуты и секунды:"
   ]
  },
  {
   "cell_type": "code",
   "execution_count": null,
   "metadata": {
    "id": "SaWKDly9RJQJ",
    "outputId": "825ce9b5-2704-4a11-f3ec-6d202ad9fa75"
   },
   "outputs": [
    {
     "name": "stdout",
     "output_type": "stream",
     "text": [
      "2021 01 02\n",
      "21 15 06\n"
     ]
    }
   ],
   "source": [
    "Y, M, D = Date.split('-')\n",
    "print(Y, M, D)\n",
    "h, m, s = Time.split(':')\n",
    "print(h, m, s)"
   ]
  },
  {
   "cell_type": "markdown",
   "metadata": {
    "id": "4EJj9c-3RJQJ"
   },
   "source": [
    "В данном способе есть недостаток - результат у нас записан в виде строк:"
   ]
  },
  {
   "cell_type": "code",
   "execution_count": null,
   "metadata": {
    "id": "w5N78bE7RJQJ",
    "outputId": "828ffdd8-a62f-4641-d28c-fa7bc78d3ca7"
   },
   "outputs": [
    {
     "data": {
      "text/plain": [
       "str"
      ]
     },
     "execution_count": 20,
     "metadata": {},
     "output_type": "execute_result"
    }
   ],
   "source": [
    "type(Y)"
   ]
  },
  {
   "cell_type": "markdown",
   "metadata": {
    "id": "aOuafoMARJQJ"
   },
   "source": [
    "Чтобы получить целочисленные значения, можно модифицировать код следующим образом:"
   ]
  },
  {
   "cell_type": "code",
   "execution_count": null,
   "metadata": {
    "id": "gwHFnXtORJQJ",
    "outputId": "07e02df5-6c16-4600-f17a-b70e2934358f"
   },
   "outputs": [
    {
     "name": "stdout",
     "output_type": "stream",
     "text": [
      "2021 1 2\n",
      "21 15 6\n"
     ]
    }
   ],
   "source": [
    "Y, M, D = map(int, Date.split('-'))\n",
    "print(Y, M, D)\n",
    "h, m, s = map(int, Time.split(':'))\n",
    "print(h, m, s)"
   ]
  },
  {
   "cell_type": "code",
   "execution_count": null,
   "metadata": {
    "id": "SvxmD-MiRJQJ",
    "outputId": "bc99487b-8b06-4ce7-c5f3-c38f9ca0d096"
   },
   "outputs": [
    {
     "data": {
      "text/plain": [
       "int"
      ]
     },
     "execution_count": 22,
     "metadata": {},
     "output_type": "execute_result"
    }
   ],
   "source": [
    "type(Y)"
   ]
  },
  {
   "cell_type": "markdown",
   "metadata": {
    "id": "Wfx-SEGPRJQK"
   },
   "source": [
    "---\n",
    "\n",
    "# Задание 3\n",
    "\n",
    "Вам нужно написать функцию, которая из входного объекта datetime будет выделять следующую информацию:\n",
    "\n",
    "1. Дата - в формате ***год-месяц-день***;\n",
    "2. Год;\n",
    "3. Месяц;\n",
    "4. День;\n",
    "5. Порядковый номер недели;\n",
    "6. День недели (например, понедельник);\n",
    "7. Время - в формате ***часы-минуты-секунды***;\n",
    "8. Часы;\n",
    "9. Минуты;\n",
    "10. Секунды;\n",
    "11. Количество секунд с начала дня.\n",
    "\n",
    "Эту функцию необходимо применить к таблице, в которой уже есть колонка с datetime'ами, и добавить в эту таблицу 11 новых столбцов, содержащих в себе значения из пп. 1-11. Очередность и название столбцов такие же, как в списке выше.\n",
    "\n",
    "Добиться результата можно различными способами.\n",
    "\n",
    "Для получения исходной информации необходимо выполнить код:"
   ]
  },
  {
   "cell_type": "code",
   "execution_count": 86,
   "metadata": {
    "colab": {
     "base_uri": "https://localhost:8080/"
    },
    "executionInfo": {
     "elapsed": 49631,
     "status": "ok",
     "timestamp": 1647861135115,
     "user": {
      "displayName": "Иван Романов",
      "photoUrl": "https://lh3.googleusercontent.com/a/default-user=s64",
      "userId": "05119643280596747163"
     },
     "user_tz": -180
    },
    "id": "4ZYxzzzND3mA",
    "outputId": "c692821c-2e2f-4f70-eeac-378cc672edba"
   },
   "outputs": [
    {
     "ename": "ModuleNotFoundError",
     "evalue": "No module named 'google'",
     "output_type": "error",
     "traceback": [
      "\u001b[0;31m---------------------------------------------------------------------------\u001b[0m",
      "\u001b[0;31mModuleNotFoundError\u001b[0m                       Traceback (most recent call last)",
      "Input \u001b[0;32mIn [86]\u001b[0m, in \u001b[0;36m<module>\u001b[0;34m\u001b[0m\n\u001b[0;32m----> 1\u001b[0m \u001b[38;5;28;01mfrom\u001b[39;00m \u001b[38;5;21;01mgoogle\u001b[39;00m\u001b[38;5;21;01m.\u001b[39;00m\u001b[38;5;21;01mcolab\u001b[39;00m \u001b[38;5;28;01mimport\u001b[39;00m drive  \u001b[38;5;66;03m# если вы выполняете код из среды Google Colab, нужно подключить свой гугл-диск,\u001b[39;00m\n\u001b[1;32m      2\u001b[0m drive\u001b[38;5;241m.\u001b[39mmount(\u001b[38;5;124m'\u001b[39m\u001b[38;5;124m/content/drive\u001b[39m\u001b[38;5;124m'\u001b[39m)\n",
      "\u001b[0;31mModuleNotFoundError\u001b[0m: No module named 'google'"
     ]
    }
   ],
   "source": [
    "from google.colab import drive  # если вы выполняете код из среды Google Colab, нужно подключить свой гугл-диск,\n",
    "drive.mount('/content/drive')   # чтобы можно было оттуда считать файл с данными для этого задания"
   ]
  },
  {
   "cell_type": "code",
   "execution_count": 253,
   "metadata": {
    "colab": {
     "base_uri": "https://localhost:8080/",
     "height": 424
    },
    "executionInfo": {
     "elapsed": 1383,
     "status": "ok",
     "timestamp": 1647867874491,
     "user": {
      "displayName": "Иван Романов",
      "photoUrl": "https://lh3.googleusercontent.com/a/default-user=s64",
      "userId": "05119643280596747163"
     },
     "user_tz": -180
    },
    "id": "6LMUlNSURJQK",
    "outputId": "a1efe857-4678-4058-b955-0a9e6234c2f7",
    "scrolled": true
   },
   "outputs": [
    {
     "data": {
      "text/html": [
       "<div>\n",
       "<style scoped>\n",
       "    .dataframe tbody tr th:only-of-type {\n",
       "        vertical-align: middle;\n",
       "    }\n",
       "\n",
       "    .dataframe tbody tr th {\n",
       "        vertical-align: top;\n",
       "    }\n",
       "\n",
       "    .dataframe thead th {\n",
       "        text-align: right;\n",
       "    }\n",
       "</style>\n",
       "<table border=\"1\" class=\"dataframe\">\n",
       "  <thead>\n",
       "    <tr style=\"text-align: right;\">\n",
       "      <th></th>\n",
       "      <th>datetime</th>\n",
       "    </tr>\n",
       "  </thead>\n",
       "  <tbody>\n",
       "    <tr>\n",
       "      <th>0</th>\n",
       "      <td>2021-01-26 17:22:41</td>\n",
       "    </tr>\n",
       "    <tr>\n",
       "      <th>1</th>\n",
       "      <td>2013-04-18 14:44:04</td>\n",
       "    </tr>\n",
       "    <tr>\n",
       "      <th>2</th>\n",
       "      <td>2017-11-12 21:51:06</td>\n",
       "    </tr>\n",
       "    <tr>\n",
       "      <th>3</th>\n",
       "      <td>2001-09-14 22:48:09</td>\n",
       "    </tr>\n",
       "    <tr>\n",
       "      <th>4</th>\n",
       "      <td>2012-12-03 18:05:30</td>\n",
       "    </tr>\n",
       "    <tr>\n",
       "      <th>...</th>\n",
       "      <td>...</td>\n",
       "    </tr>\n",
       "    <tr>\n",
       "      <th>95</th>\n",
       "      <td>2002-04-06 14:45:02</td>\n",
       "    </tr>\n",
       "    <tr>\n",
       "      <th>96</th>\n",
       "      <td>2010-01-17 19:29:42</td>\n",
       "    </tr>\n",
       "    <tr>\n",
       "      <th>97</th>\n",
       "      <td>2016-09-20 13:10:02</td>\n",
       "    </tr>\n",
       "    <tr>\n",
       "      <th>98</th>\n",
       "      <td>2019-11-27 15:05:00</td>\n",
       "    </tr>\n",
       "    <tr>\n",
       "      <th>99</th>\n",
       "      <td>2005-02-08 18:53:40</td>\n",
       "    </tr>\n",
       "  </tbody>\n",
       "</table>\n",
       "<p>100 rows × 1 columns</p>\n",
       "</div>"
      ],
      "text/plain": [
       "               datetime\n",
       "0   2021-01-26 17:22:41\n",
       "1   2013-04-18 14:44:04\n",
       "2   2017-11-12 21:51:06\n",
       "3   2001-09-14 22:48:09\n",
       "4   2012-12-03 18:05:30\n",
       "..                  ...\n",
       "95  2002-04-06 14:45:02\n",
       "96  2010-01-17 19:29:42\n",
       "97  2016-09-20 13:10:02\n",
       "98  2019-11-27 15:05:00\n",
       "99  2005-02-08 18:53:40\n",
       "\n",
       "[100 rows x 1 columns]"
      ]
     },
     "execution_count": 253,
     "metadata": {},
     "output_type": "execute_result"
    }
   ],
   "source": [
    "# здесь и далее вам понадобится менять пути к файлам, поскольку в вашей системе вы их можете записать в другое место\n",
    "import pandas as pd\n",
    "\n",
    "data = pd.read_excel('../datasets/Даты.xlsx')\n",
    "data"
   ]
  },
  {
   "cell_type": "code",
   "execution_count": null,
   "metadata": {},
   "outputs": [],
   "source": []
  },
  {
   "cell_type": "markdown",
   "metadata": {
    "id": "j3FPk6NeRJQK"
   },
   "source": [
    "Добавлять значения в таблицу можно следующим образом:"
   ]
  },
  {
   "cell_type": "code",
   "execution_count": 5,
   "metadata": {
    "colab": {
     "base_uri": "https://localhost:8080/",
     "height": 424
    },
    "collapsed": true,
    "executionInfo": {
     "elapsed": 278,
     "status": "ok",
     "timestamp": 1647867882990,
     "user": {
      "displayName": "Иван Романов",
      "photoUrl": "https://lh3.googleusercontent.com/a/default-user=s64",
      "userId": "05119643280596747163"
     },
     "user_tz": -180
    },
    "id": "jkSXSiVuRJQK",
    "outputId": "28976955-06e4-4e6c-cab3-7a9fee77e6a2"
   },
   "outputs": [
    {
     "data": {
      "text/html": [
       "\n",
       "  <div id=\"df-c8f4a2be-d59d-40af-bb64-5a5c57767da2\">\n",
       "    <div class=\"colab-df-container\">\n",
       "      <div>\n",
       "<style scoped>\n",
       "    .dataframe tbody tr th:only-of-type {\n",
       "        vertical-align: middle;\n",
       "    }\n",
       "\n",
       "    .dataframe tbody tr th {\n",
       "        vertical-align: top;\n",
       "    }\n",
       "\n",
       "    .dataframe thead th {\n",
       "        text-align: right;\n",
       "    }\n",
       "</style>\n",
       "<table border=\"1\" class=\"dataframe\">\n",
       "  <thead>\n",
       "    <tr style=\"text-align: right;\">\n",
       "      <th></th>\n",
       "      <th>datetime</th>\n",
       "      <th>Новый столбец</th>\n",
       "    </tr>\n",
       "  </thead>\n",
       "  <tbody>\n",
       "    <tr>\n",
       "      <th>0</th>\n",
       "      <td>2021-01-26 17:22:41</td>\n",
       "      <td>новое значение</td>\n",
       "    </tr>\n",
       "    <tr>\n",
       "      <th>1</th>\n",
       "      <td>2013-04-18 14:44:04</td>\n",
       "      <td>новое значение</td>\n",
       "    </tr>\n",
       "    <tr>\n",
       "      <th>2</th>\n",
       "      <td>2017-11-12 21:51:06</td>\n",
       "      <td>новое значение</td>\n",
       "    </tr>\n",
       "    <tr>\n",
       "      <th>3</th>\n",
       "      <td>2001-09-14 22:48:09</td>\n",
       "      <td>новое значение</td>\n",
       "    </tr>\n",
       "    <tr>\n",
       "      <th>4</th>\n",
       "      <td>2012-12-03 18:05:30</td>\n",
       "      <td>новое значение</td>\n",
       "    </tr>\n",
       "    <tr>\n",
       "      <th>...</th>\n",
       "      <td>...</td>\n",
       "      <td>...</td>\n",
       "    </tr>\n",
       "    <tr>\n",
       "      <th>95</th>\n",
       "      <td>2002-04-06 14:45:02</td>\n",
       "      <td>новое значение</td>\n",
       "    </tr>\n",
       "    <tr>\n",
       "      <th>96</th>\n",
       "      <td>2010-01-17 19:29:42</td>\n",
       "      <td>новое значение</td>\n",
       "    </tr>\n",
       "    <tr>\n",
       "      <th>97</th>\n",
       "      <td>2016-09-20 13:10:02</td>\n",
       "      <td>новое значение</td>\n",
       "    </tr>\n",
       "    <tr>\n",
       "      <th>98</th>\n",
       "      <td>2019-11-27 15:05:00</td>\n",
       "      <td>новое значение</td>\n",
       "    </tr>\n",
       "    <tr>\n",
       "      <th>99</th>\n",
       "      <td>2005-02-08 18:53:40</td>\n",
       "      <td>новое значение</td>\n",
       "    </tr>\n",
       "  </tbody>\n",
       "</table>\n",
       "<p>100 rows × 2 columns</p>\n",
       "</div>\n",
       "      <button class=\"colab-df-convert\" onclick=\"convertToInteractive('df-c8f4a2be-d59d-40af-bb64-5a5c57767da2')\"\n",
       "              title=\"Convert this dataframe to an interactive table.\"\n",
       "              style=\"display:none;\">\n",
       "        \n",
       "  <svg xmlns=\"http://www.w3.org/2000/svg\" height=\"24px\"viewBox=\"0 0 24 24\"\n",
       "       width=\"24px\">\n",
       "    <path d=\"M0 0h24v24H0V0z\" fill=\"none\"/>\n",
       "    <path d=\"M18.56 5.44l.94 2.06.94-2.06 2.06-.94-2.06-.94-.94-2.06-.94 2.06-2.06.94zm-11 1L8.5 8.5l.94-2.06 2.06-.94-2.06-.94L8.5 2.5l-.94 2.06-2.06.94zm10 10l.94 2.06.94-2.06 2.06-.94-2.06-.94-.94-2.06-.94 2.06-2.06.94z\"/><path d=\"M17.41 7.96l-1.37-1.37c-.4-.4-.92-.59-1.43-.59-.52 0-1.04.2-1.43.59L10.3 9.45l-7.72 7.72c-.78.78-.78 2.05 0 2.83L4 21.41c.39.39.9.59 1.41.59.51 0 1.02-.2 1.41-.59l7.78-7.78 2.81-2.81c.8-.78.8-2.07 0-2.86zM5.41 20L4 18.59l7.72-7.72 1.47 1.35L5.41 20z\"/>\n",
       "  </svg>\n",
       "      </button>\n",
       "      \n",
       "  <style>\n",
       "    .colab-df-container {\n",
       "      display:flex;\n",
       "      flex-wrap:wrap;\n",
       "      gap: 12px;\n",
       "    }\n",
       "\n",
       "    .colab-df-convert {\n",
       "      background-color: #E8F0FE;\n",
       "      border: none;\n",
       "      border-radius: 50%;\n",
       "      cursor: pointer;\n",
       "      display: none;\n",
       "      fill: #1967D2;\n",
       "      height: 32px;\n",
       "      padding: 0 0 0 0;\n",
       "      width: 32px;\n",
       "    }\n",
       "\n",
       "    .colab-df-convert:hover {\n",
       "      background-color: #E2EBFA;\n",
       "      box-shadow: 0px 1px 2px rgba(60, 64, 67, 0.3), 0px 1px 3px 1px rgba(60, 64, 67, 0.15);\n",
       "      fill: #174EA6;\n",
       "    }\n",
       "\n",
       "    [theme=dark] .colab-df-convert {\n",
       "      background-color: #3B4455;\n",
       "      fill: #D2E3FC;\n",
       "    }\n",
       "\n",
       "    [theme=dark] .colab-df-convert:hover {\n",
       "      background-color: #434B5C;\n",
       "      box-shadow: 0px 1px 3px 1px rgba(0, 0, 0, 0.15);\n",
       "      filter: drop-shadow(0px 1px 2px rgba(0, 0, 0, 0.3));\n",
       "      fill: #FFFFFF;\n",
       "    }\n",
       "  </style>\n",
       "\n",
       "      <script>\n",
       "        const buttonEl =\n",
       "          document.querySelector('#df-c8f4a2be-d59d-40af-bb64-5a5c57767da2 button.colab-df-convert');\n",
       "        buttonEl.style.display =\n",
       "          google.colab.kernel.accessAllowed ? 'block' : 'none';\n",
       "\n",
       "        async function convertToInteractive(key) {\n",
       "          const element = document.querySelector('#df-c8f4a2be-d59d-40af-bb64-5a5c57767da2');\n",
       "          const dataTable =\n",
       "            await google.colab.kernel.invokeFunction('convertToInteractive',\n",
       "                                                     [key], {});\n",
       "          if (!dataTable) return;\n",
       "\n",
       "          const docLinkHtml = 'Like what you see? Visit the ' +\n",
       "            '<a target=\"_blank\" href=https://colab.research.google.com/notebooks/data_table.ipynb>data table notebook</a>'\n",
       "            + ' to learn more about interactive tables.';\n",
       "          element.innerHTML = '';\n",
       "          dataTable['output_type'] = 'display_data';\n",
       "          await google.colab.output.renderOutput(dataTable, element);\n",
       "          const docLink = document.createElement('div');\n",
       "          docLink.innerHTML = docLinkHtml;\n",
       "          element.appendChild(docLink);\n",
       "        }\n",
       "      </script>\n",
       "    </div>\n",
       "  </div>\n",
       "  "
      ],
      "text/plain": [
       "               datetime   Новый столбец\n",
       "0   2021-01-26 17:22:41  новое значение\n",
       "1   2013-04-18 14:44:04  новое значение\n",
       "2   2017-11-12 21:51:06  новое значение\n",
       "3   2001-09-14 22:48:09  новое значение\n",
       "4   2012-12-03 18:05:30  новое значение\n",
       "..                  ...             ...\n",
       "95  2002-04-06 14:45:02  новое значение\n",
       "96  2010-01-17 19:29:42  новое значение\n",
       "97  2016-09-20 13:10:02  новое значение\n",
       "98  2019-11-27 15:05:00  новое значение\n",
       "99  2005-02-08 18:53:40  новое значение\n",
       "\n",
       "[100 rows x 2 columns]"
      ]
     },
     "execution_count": 5,
     "metadata": {},
     "output_type": "execute_result"
    }
   ],
   "source": [
    "new_values = ['новое значение' for j in range(100)]\n",
    "data['Новый столбец'] = new_values\n",
    "data"
   ]
  },
  {
   "cell_type": "markdown",
   "metadata": {
    "id": "Ph43gYpzRJQK"
   },
   "source": [
    "Сохранить полученный результат можно следующим образом:"
   ]
  },
  {
   "cell_type": "code",
   "execution_count": null,
   "metadata": {
    "id": "mxHRat2ERJQK"
   },
   "outputs": [],
   "source": [
    "nik_name = 'меня зовут'\n",
    "data.to_excel('/content/drive/MyDrive/school21/day01/datasets/Даты '+nik_name+'.xlsx', index=False)"
   ]
  },
  {
   "cell_type": "markdown",
   "metadata": {
    "id": "iaGYRACRmF-u"
   },
   "source": [
    "Для выполнения задания вам нужно будет сохранить новый файл в ту же папку, откуда мы берем файл Даты.xlsx"
   ]
  },
  {
   "cell_type": "markdown",
   "metadata": {
    "id": "BEm_k9fqRJQL"
   },
   "source": [
    "Good_luck = 'Удачи!'"
   ]
  },
  {
   "cell_type": "markdown",
   "metadata": {},
   "source": [
    "\n",
    "---"
   ]
  },
  {
   "cell_type": "markdown",
   "metadata": {},
   "source": [
    "# Задание 3\n",
    "\n",
    "Вам нужно написать функцию, которая из входного объекта datetime будет выделять следующую информацию:\n",
    "\n",
    "1. Дата - в формате ***год-месяц-день***;\n",
    "2. Год;\n",
    "3. Месяц;\n",
    "4. День;\n",
    "5. Порядковый номер недели;\n",
    "6. День недели (например, понедельник);\n",
    "7. Время - в формате ***часы-минуты-секунды***;\n",
    "8. Часы;\n",
    "9. Минуты;\n",
    "10. Секунды;\n",
    "11. Количество секунд с начала дня.\n",
    "\n",
    "Эту функцию необходимо применить к таблице, в которой уже есть колонка с datetime'ами, и добавить в эту таблицу 11 новых столбцов, содержащих в себе значения из пп. 1-11. Очередность и название столбцов такие же, как в списке выше.\n",
    "\n",
    "Добиться результата можно различными способами.\n",
    "\n",
    "Для получения исходной информации необходимо выполнить код:"
   ]
  },
  {
   "cell_type": "code",
   "execution_count": 343,
   "metadata": {
    "scrolled": true
   },
   "outputs": [
    {
     "data": {
      "text/html": [
       "<div>\n",
       "<style scoped>\n",
       "    .dataframe tbody tr th:only-of-type {\n",
       "        vertical-align: middle;\n",
       "    }\n",
       "\n",
       "    .dataframe tbody tr th {\n",
       "        vertical-align: top;\n",
       "    }\n",
       "\n",
       "    .dataframe thead th {\n",
       "        text-align: right;\n",
       "    }\n",
       "</style>\n",
       "<table border=\"1\" class=\"dataframe\">\n",
       "  <thead>\n",
       "    <tr style=\"text-align: right;\">\n",
       "      <th></th>\n",
       "      <th>datetime</th>\n",
       "    </tr>\n",
       "  </thead>\n",
       "  <tbody>\n",
       "    <tr>\n",
       "      <th>0</th>\n",
       "      <td>2021-01-26 17:22:41</td>\n",
       "    </tr>\n",
       "    <tr>\n",
       "      <th>1</th>\n",
       "      <td>2013-04-18 14:44:04</td>\n",
       "    </tr>\n",
       "    <tr>\n",
       "      <th>2</th>\n",
       "      <td>2017-11-12 21:51:06</td>\n",
       "    </tr>\n",
       "    <tr>\n",
       "      <th>3</th>\n",
       "      <td>2001-09-14 22:48:09</td>\n",
       "    </tr>\n",
       "    <tr>\n",
       "      <th>4</th>\n",
       "      <td>2012-12-03 18:05:30</td>\n",
       "    </tr>\n",
       "  </tbody>\n",
       "</table>\n",
       "</div>"
      ],
      "text/plain": [
       "              datetime\n",
       "0  2021-01-26 17:22:41\n",
       "1  2013-04-18 14:44:04\n",
       "2  2017-11-12 21:51:06\n",
       "3  2001-09-14 22:48:09\n",
       "4  2012-12-03 18:05:30"
      ]
     },
     "execution_count": 343,
     "metadata": {},
     "output_type": "execute_result"
    }
   ],
   "source": [
    "import pandas as pd\n",
    "from datetime import datetime as dt, timedelta, date, time\n",
    "\n",
    "df = pd.read_excel('../datasets/Даты.xlsx')\n",
    "df.head()"
   ]
  },
  {
   "cell_type": "code",
   "execution_count": 345,
   "metadata": {},
   "outputs": [],
   "source": [
    "def split_datetime(df):\n",
    "    day_list = ('Понедельник', 'Вторник', 'Среда', 'Четверг', 'Пятница', 'Суббота', 'Воскресенье')\n",
    "    df_datetime = df['datetime'].apply(lambda x: dt.strptime(x, '%Y-%m-%d %H:%M:%S'))\n",
    "    \n",
    "    df['date'] = df_datetime.apply(lambda x: str(x.date()))\n",
    "    df['year'] = df_datetime.apply(lambda x: str(x.date()).split('-')[0])\n",
    "    df['month'] = df_datetime.apply(lambda x: str(x.date()).split('-')[1])\n",
    "    df['day'] = df_datetime.apply(lambda x: str(x.date()).split('-')[2])\n",
    "    df['week_number'] = df_datetime.apply(lambda x: x.isocalendar()[1])\n",
    "    df['weekday'] = df_datetime.apply(lambda x: day_list[x.isocalendar()[2] - 1])\n",
    "    df['time'] = df_datetime.apply(lambda x: str(x.time()))\n",
    "    df['hour'] = df_datetime.apply(lambda x: str(x.hour))\n",
    "    df['min'] = df_datetime.apply(lambda x: str(x.minute))\n",
    "    df['sec'] = df_datetime.apply(lambda x: str(x.second))\n",
    "    df['sec_of_day'] = df_datetime.apply(lambda x: str(x.hour*3600 + x.minute*60 + x.second))\n",
    "    \n",
    "    return df\n",
    "\n",
    "df = split_datetime(df)\n",
    "df.head()\n",
    "nik_name = 'Igarg'\n",
    "df.to_excel('../datasets/Даты '+nik_name+'.xlsx', index=False)"
   ]
  },
  {
   "cell_type": "code",
   "execution_count": null,
   "metadata": {},
   "outputs": [],
   "source": []
  },
  {
   "cell_type": "code",
   "execution_count": null,
   "metadata": {},
   "outputs": [],
   "source": []
  },
  {
   "cell_type": "code",
   "execution_count": null,
   "metadata": {},
   "outputs": [],
   "source": []
  },
  {
   "cell_type": "code",
   "execution_count": null,
   "metadata": {},
   "outputs": [],
   "source": []
  },
  {
   "cell_type": "code",
   "execution_count": null,
   "metadata": {},
   "outputs": [],
   "source": []
  },
  {
   "cell_type": "code",
   "execution_count": null,
   "metadata": {},
   "outputs": [],
   "source": []
  },
  {
   "cell_type": "code",
   "execution_count": null,
   "metadata": {},
   "outputs": [],
   "source": []
  },
  {
   "cell_type": "code",
   "execution_count": null,
   "metadata": {},
   "outputs": [],
   "source": []
  },
  {
   "cell_type": "code",
   "execution_count": null,
   "metadata": {},
   "outputs": [],
   "source": []
  }
 ],
 "metadata": {
  "colab": {
   "name": "d01_task.ipynb",
   "provenance": []
  },
  "kernelspec": {
   "display_name": "Python 3 (ipykernel)",
   "language": "python",
   "name": "python3"
  },
  "language_info": {
   "codemirror_mode": {
    "name": "ipython",
    "version": 3
   },
   "file_extension": ".py",
   "mimetype": "text/x-python",
   "name": "python",
   "nbconvert_exporter": "python",
   "pygments_lexer": "ipython3",
   "version": "3.9.10"
  }
 },
 "nbformat": 4,
 "nbformat_minor": 1
}
